{
 "cells": [
  {
   "cell_type": "markdown",
   "id": "8353819b",
   "metadata": {},
   "source": [
    "# <font color='#DE3163'>U</font><font color='#6495ED'>n</font><font color='#FF7F50'>i</font><font color='#CCCCFF'>q</font><font color='#FFC300'>u</font><font color='#40E0D0'>e</font> > Random</font>\n",
    "**Generating a unique networking schedule using object oriented programming in Python**  \n",
    "Anne Bode"
   ]
  },
  {
   "cell_type": "markdown",
   "id": "67636e35",
   "metadata": {},
   "source": [
    "## Import Libraries"
   ]
  },
  {
   "cell_type": "code",
   "execution_count": 2,
   "id": "48bc5e59",
   "metadata": {},
   "outputs": [],
   "source": [
    "import random\n",
    "import copy\n",
    "import pandas as pd"
   ]
  },
  {
   "cell_type": "markdown",
   "id": "2b85ffb2",
   "metadata": {},
   "source": [
    "## Create Objects: Student & Lunch Group"
   ]
  },
  {
   "cell_type": "code",
   "execution_count": 200,
   "id": "05e075df",
   "metadata": {},
   "outputs": [],
   "source": [
    "# create new object type: student\n",
    "class student:\n",
    "    \n",
    "    '''\n",
    "    New object type, \"student\"\n",
    "    Takes email and name as inputs\n",
    "    Keeps track of which other students the student has met\n",
    "    Meets other students, and forgets them when necessary (when student is removed from networking group)\n",
    "    '''\n",
    "    \n",
    "    def __init__(self, email, name):\n",
    "        self.email = email\n",
    "        self.name = name\n",
    "        self.students_met = [] # list of student objects\n",
    "    \n",
    "    def __str__(self):\n",
    "        return self.email, self.name\n",
    "    \n",
    "    def get_students_met(self):\n",
    "        return self.students_met\n",
    "        \n",
    "    def meet_someone(self, other_student):\n",
    "        if other_student != self:\n",
    "            self.students_met.append(other_student)\n",
    "            other_student.students_met.append(self)\n",
    "    \n",
    "    def forget_someone(self, other_student):\n",
    "        self.students_met.remove(other_student) # remove other student from students_met (first occurrence)\n",
    "        other_student.students_met.remove(self) # remove self from other student's students_met (first occurrence)"
   ]
  },
  {
   "cell_type": "code",
   "execution_count": 201,
   "id": "2a638252",
   "metadata": {},
   "outputs": [],
   "source": [
    "# create new object type: lunch group\n",
    "class lunch_group:\n",
    "    \n",
    "    '''\n",
    "    New object type, \"lunch_group\"\n",
    "    No inputs needed to create new instance\n",
    "    Tracks who is a member of the group, and who the members of the group have met\n",
    "    Returns number of members\n",
    "    Updates values as necessary when new student is added to group or student is removed\n",
    "    '''  \n",
    "        \n",
    "    def __init__(self):\n",
    "        self.student_list = []\n",
    "        self.students_met = []\n",
    "    \n",
    "    def get_student_list(self):\n",
    "        return self.student_list\n",
    "    \n",
    "    def get_student_list_print(self):\n",
    "        return [s.email for s in self.student_list], [s.name for s in self.student_list]\n",
    "    \n",
    "    def get_students_met(self):\n",
    "        return self.students_met\n",
    "    \n",
    "    def get_students_met_print(self):\n",
    "        return [s.email for s in self.students_met], [s.name for s in self.students_met]\n",
    "    \n",
    "    def get_number_members(self):\n",
    "        return len(self.student_list)\n",
    "    \n",
    "    # create list of all students met across all students in the lunch group\n",
    "    # if members have been removed or added, we must update for the group\n",
    "    def update_students_met(self):\n",
    "        self.students_met = []\n",
    "        for s in self.student_list:\n",
    "            for t in s.students_met:\n",
    "                if t not in self.students_met:\n",
    "                    self.students_met.append(t)\n",
    "\n",
    "    # add student to the group, all students in the group will now meet eachother\n",
    "    def add_student(self, new_student):\n",
    "        if new_student not in self.student_list:\n",
    "            self.student_list.append(new_student)\n",
    "            for s in self.student_list:\n",
    "                new_student.meet_someone(s)\n",
    "            self.update_students_met()\n",
    "    \n",
    "    # remove student from group, students will now \"forget\" this student\n",
    "    # if student has previously met removed student, only this one meeting will be \"forgotten\"\n",
    "    def remove_student(self, removed_student):\n",
    "        self.student_list.remove(removed_student)\n",
    "        for s in self.student_list:\n",
    "            s.forget_someone(removed_student) # removes first occurrence from both students' students_met list\n"
   ]
  },
  {
   "cell_type": "markdown",
   "id": "c448e33b",
   "metadata": {},
   "source": [
    "## Weekly Plan Functions"
   ]
  },
  {
   "cell_type": "code",
   "execution_count": 202,
   "id": "0ac4e085",
   "metadata": {},
   "outputs": [],
   "source": [
    "def calc_groups(n, group_size):\n",
    "    \n",
    "    '''\n",
    "    calculate number of groups, given number of participants and desired group size\n",
    "    inputs: n = number of participants | group_size = desired group size\n",
    "    output: number of groups, remainder of n % group size, and code to say whether there should be smaller/larger groups\n",
    "    '''\n",
    "    \n",
    "    num_groups = int(n/group_size)\n",
    "    remainder = n % group_size\n",
    "    group_code = 'normal'\n",
    "    \n",
    "    # if our remainder is > 50% of the desired group size, we will have one extra, smaller group\n",
    "    if remainder > group_size/2:\n",
    "        num_groups +=1\n",
    "        group_code = 'extra_group'\n",
    "    \n",
    "    # if our remainder is < 50% of the desired group size but > 0, our last n=remainder groups will have one extra member\n",
    "    elif remainder > 0:\n",
    "        group_code = 'bigger_groups'\n",
    "        \n",
    "    return num_groups, remainder, group_code"
   ]
  },
  {
   "cell_type": "code",
   "execution_count": 203,
   "id": "3688c7cf",
   "metadata": {},
   "outputs": [],
   "source": [
    "def random_schedule(students, group_size, num_weeks):\n",
    "    \n",
    "    '''\n",
    "    Generates a weekly schedule of group meetings, just relying on randomness to create groupings\n",
    "    Takes in list of students, group size, and number of weeks of the networking program\n",
    "    Returns a weekly plan, with appropriate sized groups meeting for the specified number of weeks\n",
    "    '''\n",
    "    \n",
    "    # initiate variables\n",
    "    weekly_plan = {}\n",
    "    weeks = ['week'+ str(i) for i in range(1,num_weeks+1)]\n",
    "    num_participants = len(students)\n",
    "    \n",
    "    # calculate how many groups we should create, depending on number of participants and desired group size\n",
    "    num_groups, remainder, group_code = calc_groups(num_participants, group_size)\n",
    "    \n",
    "    for w in weeks:\n",
    "        weekly_plan[w] = []\n",
    "        students_unassigned = students[:] # create copy of students to keep track of who has been assigned a group\n",
    "        \n",
    "        for i in range(1, num_groups+1):\n",
    "            # initiate new instance of lunch_group\n",
    "            new_group = lunch_group()\n",
    "            \n",
    "            # determine size of group, using results from above\n",
    "            if group_code == 'extra_group' and i == num_groups:\n",
    "                size = remainder\n",
    "            elif group_code == 'bigger_groups' and i > (num_groups - remainder):\n",
    "                size = group_size + 1\n",
    "            else:\n",
    "                size = group_size\n",
    "            \n",
    "            # while our new group has fewer members than our specified size,\n",
    "            # randomly add an unassigned student to the group and remove student from unassigned list\n",
    "            while new_group.get_number_members() < size:\n",
    "                new_student = random.choice(students_unassigned)\n",
    "                new_group.add_student(new_student)\n",
    "                students_unassigned.remove(new_student)\n",
    "            \n",
    "            # when specified size has been reached, add new group to this week's entry in our dictionary\n",
    "            weekly_plan[w].append(new_group)\n",
    "            \n",
    "    return weekly_plan"
   ]
  },
  {
   "cell_type": "code",
   "execution_count": 204,
   "id": "8b2489e3",
   "metadata": {},
   "outputs": [],
   "source": [
    "def unique_schedule(students, group_size, num_weeks):\n",
    "    \n",
    "    '''\n",
    "    Generates a weekly schedule of group meetings\n",
    "    Takes into account who students have already met, to try to create groupings based on uniqueness\n",
    "    Takes in list of students, group size, and number of weeks of the networking program\n",
    "    Returns a weekly plan, with appropriate sized groups meeting for the specified number of weeks\n",
    "    '''\n",
    "\n",
    "    # initiate variables\n",
    "    weekly_plan = {}\n",
    "    weeks = ['week'+ str(i) for i in range(1,num_weeks+1)]\n",
    "    num_participants = len(students)\n",
    "\n",
    "    # calculate how many groups we should create, depending on number of participants and desired group size\n",
    "    num_groups, remainder, group_code = calc_groups(num_participants, group_size)\n",
    "        \n",
    "    for w in weeks:\n",
    "        weekly_plan[w] = []\n",
    "        students_unassigned = students[:] # create copy of students to keep track of who has been assigned a group\n",
    "        \n",
    "        for i in range(1, num_groups+1):\n",
    "            \n",
    "            # for each group, create a copy of the currently unassigned students\n",
    "            # we will use this to keep track of which unassigned students are still eligible to be added to our new group\n",
    "            group_options = students_unassigned[:]\n",
    "\n",
    "            # initiate new instance of lunch_group\n",
    "            new_group = lunch_group()\n",
    "            \n",
    "            # create a list of the indices of the other groups we have created thus far\n",
    "            other_groups = [i for i in range(len(weekly_plan[w]))]\n",
    "            \n",
    "            # determine size of group, using results from above\n",
    "            if group_code == 'extra_group' and i == num_groups:\n",
    "                size = remainder\n",
    "            elif group_code == 'bigger_groups' and i > (num_groups - remainder):\n",
    "                size = group_size + 1\n",
    "            else:\n",
    "                size = group_size\n",
    "            \n",
    "            # while our new group has fewer members than our specified size, and eligible unassigned students > 0\n",
    "            while new_group.get_number_members() < size and len(group_options) > 0:\n",
    "                \n",
    "                # choose new student at random from eligible list\n",
    "                # if new student has not met any member of group, add to group and remove from both lists\n",
    "                # otherwise, remove from just eligible list\n",
    "                new_student = random.choice(group_options)\n",
    "                if new_student not in new_group.get_students_met():\n",
    "                    new_group.add_student(new_student)\n",
    "                    students_unassigned.remove(new_student)\n",
    "                    group_options.remove(new_student)\n",
    "                else:\n",
    "                    group_options.remove(new_student)\n",
    "            \n",
    "            # if we run out of eligible unassigned students and haven't reached our specified group size\n",
    "            if new_group.get_number_members() < size:\n",
    "                \n",
    "                # if we are more than 1 away from our desired size, try to steal students from other groups\n",
    "                # if we have created other groups already this week, loop through them\n",
    "                # try to find a member who has not met anyone in our new group, and steal them\n",
    "                if new_group.get_number_members() < (size - 1):\n",
    "                    \n",
    "                    while new_group.get_number_members() < size and len(other_groups) > 0:\n",
    "                        \n",
    "                            other_group_index = random.choice(other_groups)\n",
    "                            other_groups.remove(other_group_index)\n",
    "                            \n",
    "                            other_group = weekly_plan[w][other_group_index]\n",
    "                            other_group_size = other_group.get_number_members()\n",
    "                            \n",
    "                            for other_student in other_group.get_student_list():\n",
    "                                if other_student not in new_group.get_students_met():                                        \n",
    "                                    new_group.add_student(other_student)\n",
    "                                    other_group.remove_student(other_student)\n",
    "\n",
    "                                    # now we have to replace the student we removed from their old group\n",
    "                                    other_group_options = students_unassigned[:]\n",
    "                                    while other_group.get_number_members() < other_group_size and len(other_group_options) > 0:\n",
    "                                        other_new_student = random.choice(other_group_options)\n",
    "                                        if other_new_student not in other_group.get_students_met():\n",
    "                                            other_group.add_student(other_new_student)\n",
    "                                            students_unassigned.remove(other_new_student)\n",
    "                                            other_group_options.remove(other_new_student)\n",
    "                                        else:\n",
    "                                            other_group_options.remove(other_new_student)\n",
    "\n",
    "                                    # if no more eligible students remain, randomly choose from the unassigned students\n",
    "                                    # to replace the one we took from this other group\n",
    "                                    if other_group.get_number_members() < other_group_size:\n",
    "                                        other_new_student = random.choice(students_unassigned)\n",
    "                                        other_group.add_student(other_new_student)\n",
    "                                        students_unassigned.remove(other_new_student)\n",
    "\n",
    "                                    # move on to the next group (don't want to take more than 1 person from a pre-existing group)\n",
    "                                    break\n",
    "                                    \n",
    "            # if after all this looping we STILL haven't reached our specified size, choose randomly from unassigned students\n",
    "            if new_group.get_number_members() < size:                \n",
    "                while new_group.get_number_members() < size:\n",
    "                    new_student = random.choice(students_unassigned)\n",
    "                    new_group.add_student(new_student)\n",
    "                    students_unassigned.remove(new_student)\n",
    "            \n",
    "            # when specified size has been reached, add new group to this week's entry in our dictionary\n",
    "            weekly_plan[w].append(new_group)\n",
    "            \n",
    "    return weekly_plan"
   ]
  },
  {
   "cell_type": "code",
   "execution_count": 205,
   "id": "8d48c94f",
   "metadata": {},
   "outputs": [],
   "source": [
    "def weekly_plan_df(students, weekly_plan):\n",
    "    \n",
    "    '''\n",
    "    convert weekly plan into two dataframes for easy to read schedules\n",
    "    inputs: list of students, weekly plan\n",
    "    output: (df of names/emails per group per week, df of a student schedule table)\n",
    "    '''\n",
    "    \n",
    "    # initate empty dicts for our dataframes\n",
    "    dict_df = {}\n",
    "    dict_student_sched = {}\n",
    "    \n",
    "    # generate list of names and emails, pulled from our student list\n",
    "    names, emails = [s.name for s in students], [s.email for s in students]\n",
    "    \n",
    "    # generate keys for our dicts\n",
    "    weeks = ['week' + str(i) for i in range(1,len(weekly_plan)+1)]\n",
    "    \n",
    "    # loop through our weeks, names, and groups to create our two dicts\n",
    "    for w in weeks:\n",
    "        dict_df[w]={}\n",
    "        dict_student_sched[w]={}\n",
    "        for n in names:\n",
    "            dict_student_sched[w][n] = 0\n",
    "        for i in range(len(weekly_plan[w])):\n",
    "            group = weekly_plan[w][i]\n",
    "            dict_df[w]['group'+str(i+1)] = group.get_student_list_print()\n",
    "            for s in group.get_student_list():\n",
    "                dict_student_sched[w][s.name] = i+1\n",
    "        \n",
    "    # convert dicts to dfs\n",
    "    # add email to our student schedule df\n",
    "    df = pd.DataFrame.from_dict(dict_df)\n",
    "    df_student_sched = pd.DataFrame.from_dict(dict_student_sched)\n",
    "    df_student_sched.insert(loc=0, column='Email', value=emails)\n",
    "    \n",
    "    return df, df_student_sched"
   ]
  },
  {
   "cell_type": "markdown",
   "id": "50a053aa",
   "metadata": {},
   "source": [
    "## Generate Weekly Plans"
   ]
  },
  {
   "cell_type": "code",
   "execution_count": 3,
   "id": "34d4f222",
   "metadata": {},
   "outputs": [],
   "source": [
    "# load data (hiding data to post on GitHub)\n",
    "participant_list = pd.read_csv('Participant List.csv')"
   ]
  },
  {
   "cell_type": "code",
   "execution_count": 207,
   "id": "f8c6fd30",
   "metadata": {},
   "outputs": [],
   "source": [
    "# initiate shared variables\n",
    "emails = list(participant_list['Email'])\n",
    "names = list(participant_list['Name'])\n",
    "students = [student(e,n) for e,n in zip(emails, names)]"
   ]
  },
  {
   "cell_type": "markdown",
   "id": "56015ae1",
   "metadata": {},
   "source": [
    "### Random Version"
   ]
  },
  {
   "cell_type": "code",
   "execution_count": 208,
   "id": "ac789755",
   "metadata": {},
   "outputs": [],
   "source": [
    "# create deep copy of our student list, so we can mutate new version of the student objects\n",
    "random_student_list = copy.deepcopy(students)\n",
    "\n",
    "# generate weekly plan\n",
    "random_weekly_plan = random_schedule(random_student_list, 4, 6)"
   ]
  },
  {
   "cell_type": "markdown",
   "id": "c86728e8",
   "metadata": {},
   "source": [
    "### Unique Version"
   ]
  },
  {
   "cell_type": "code",
   "execution_count": 209,
   "id": "fd1ce6f4",
   "metadata": {},
   "outputs": [],
   "source": [
    "# create deep copy of our student list, so we can mutate new version of the student objects\n",
    "unique_student_list = copy.deepcopy(students)\n",
    "\n",
    "# generate weekly plan\n",
    "unique_weekly_plan = unique_schedule(unique_student_list, 4, 6)"
   ]
  },
  {
   "cell_type": "code",
   "execution_count": 210,
   "id": "06ef4039",
   "metadata": {},
   "outputs": [],
   "source": [
    "## uncomment to save to csv\n",
    "#plan, student_schedule = weekly_plan_df(unique_student_list, unique_weekly_plan)\n",
    "#plan.to_csv('Weekly Plan 2.csv')\n",
    "#student_schedule.to_csv('Student Schedule 2.csv')\n",
    "#print('done')"
   ]
  },
  {
   "cell_type": "markdown",
   "id": "6dd07dc5",
   "metadata": {},
   "source": [
    "## Check Performance"
   ]
  },
  {
   "cell_type": "markdown",
   "id": "3dcdcdd4",
   "metadata": {},
   "source": [
    "### Random Version: Average Number of People Met, per Student"
   ]
  },
  {
   "cell_type": "code",
   "execution_count": 211,
   "id": "58ea1383",
   "metadata": {},
   "outputs": [
    {
     "data": {
      "text/plain": [
       "15.317073170731707"
      ]
     },
     "execution_count": 211,
     "metadata": {},
     "output_type": "execute_result"
    }
   ],
   "source": [
    "num_met = []\n",
    "for s in random_student_list:\n",
    "    num_met.append(len(set(s.get_students_met())))\n",
    "sum(num_met)/len(num_met)"
   ]
  },
  {
   "cell_type": "markdown",
   "id": "12bf2666",
   "metadata": {},
   "source": [
    "### Unique Version: Average Number of People Met, per Student"
   ]
  },
  {
   "cell_type": "code",
   "execution_count": 212,
   "id": "3aa7acb8",
   "metadata": {},
   "outputs": [
    {
     "data": {
      "text/plain": [
       "18.48780487804878"
      ]
     },
     "execution_count": 212,
     "metadata": {},
     "output_type": "execute_result"
    }
   ],
   "source": [
    "num_met = []\n",
    "for s in unique_student_list:\n",
    "    num_met.append(len(set(s.get_students_met())))\n",
    "sum(num_met)/len(num_met)"
   ]
  },
  {
   "cell_type": "markdown",
   "id": "206062d8",
   "metadata": {},
   "source": [
    "## What does this mean?\n",
    "In this example we have 41 participants and a desired group size of 4. That means each week there are ten groups, and one group has 5 members. Therefore, if a participant were to only meet unique students each week, they would expect to meet 6 * ((1/10) * 4 + (9/10) * 3) = 18.6 total students.\n",
    "\n",
    "If we just assigned students randomly each week, in this run of the function they would meet 15.3 students, on average. However, with our unique algorithm, the expected number is 18.5, very close to totally unique!"
   ]
  },
  {
   "cell_type": "code",
   "execution_count": null,
   "id": "bb4c905f",
   "metadata": {},
   "outputs": [],
   "source": []
  }
 ],
 "metadata": {
  "kernelspec": {
   "display_name": "Python [conda env:python38]",
   "language": "python",
   "name": "conda-env-python38-py"
  },
  "language_info": {
   "codemirror_mode": {
    "name": "ipython",
    "version": 3
   },
   "file_extension": ".py",
   "mimetype": "text/x-python",
   "name": "python",
   "nbconvert_exporter": "python",
   "pygments_lexer": "ipython3",
   "version": "3.8.10"
  }
 },
 "nbformat": 4,
 "nbformat_minor": 5
}
